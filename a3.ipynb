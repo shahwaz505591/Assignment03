{
 "cells": [
  {
   "cell_type": "code",
   "execution_count": null,
   "id": "e0205171-d354-4655-933f-8b78c3534121",
   "metadata": {},
   "outputs": [],
   "source": [
    "Q1:Explain with an example each when to use \n",
    "a for loop and while loop.\n",
    "Ans: A 'for' loop is used to iterated over a sequence (such as list,tupleor string) and execute a block of code for item un the sequence .here an example:\n",
    "fruit=['apple','banana','promegranet']\n",
    " for i  in fruit:\n",
    " print(i).         \n",
    ".............................................\n",
    "   A 'while'loop is used to repeatedly execute a block of code as long as a given condition is true. here an example:\n",
    "   counter=0\n",
    "   while counter<3:\n",
    "   print(counter)\n",
    " counter+=1.   "
   ]
  },
  {
   "cell_type": "code",
   "execution_count": null,
   "id": "759a291e-19c6-4dbc-b6e9-cff51b671019",
   "metadata": {},
   "outputs": [],
   "source": [
    "Q2:Write a python program to print the sum and product of the first 10 natural numbers using for and while loop.\n",
    "Ans:sum=0\n",
    "counter  =1\n",
    "while counter <=10:\n",
    "sum+=counter\n",
    "counter +=1\n",
    "print('the sum of first 10 natural number is',sum)"
   ]
  },
  {
   "cell_type": "markdown",
   "id": "023754f3-f15d-4b10-b024-08609dbce62a",
   "metadata": {},
   "source": [
    "Q3:create a python to compute the electricity bill for a household.\n",
    "Ans:"
   ]
  },
  {
   "cell_type": "code",
   "execution_count": null,
   "id": "c9a73d60-482c-41b7-9750-bb593236822b",
   "metadata": {},
   "outputs": [],
   "source": [
    "Q4:Create a list of numbers from 1to 100.use loop and while loop to calculate the cube of each number and if the cube of that number is divisible by 4 or 5 then append that number in a list and print that list.\n",
    "Ans:numbers=[]\n",
    "result=[]\n",
    "for i in range(1,101):\n",
    "    numbers.append(i)\n",
    "for number in numbers:\n",
    "    cube = numbers**3\n",
    "    print(\"the cube of number: \",numbers)\n",
    "if cube%4==0 or cube%5==0:\n",
    "    result.append(number)\n",
    "    print(\"the numbers whose cube is divisible by4 or 5 are: \",result).\n"
   ]
  },
  {
   "cell_type": "code",
   "execution_count": null,
   "id": "8c1df4e9-f798-4f3f-81d0-d943ae431df4",
   "metadata": {},
   "outputs": [],
   "source": [
    "Q5:Write a program to filter count vowel in below-given string. string=\"i want to become a data scientist\".\n",
    "Ans:  vowels=\"aeiouAEIOU\"\n",
    "string=\"i want to become a data scientist\"\n",
    "count=0\n",
    "\n",
    "for char in string:\n",
    "        if char in vowels:\n",
    "            count+=1\n",
    "print(\"the number of vowels in the stringis: \",count)."
   ]
  }
 ],
 "metadata": {
  "kernelspec": {
   "display_name": "Python 3 (ipykernel)",
   "language": "python",
   "name": "python3"
  },
  "language_info": {
   "codemirror_mode": {
    "name": "ipython",
    "version": 3
   },
   "file_extension": ".py",
   "mimetype": "text/x-python",
   "name": "python",
   "nbconvert_exporter": "python",
   "pygments_lexer": "ipython3",
   "version": "3.10.8"
  }
 },
 "nbformat": 4,
 "nbformat_minor": 5
}
